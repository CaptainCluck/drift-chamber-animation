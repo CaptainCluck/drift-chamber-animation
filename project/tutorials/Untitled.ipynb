{
 "cells": [
  {
   "cell_type": "code",
   "execution_count": null,
   "id": "40899172-28f3-4f8a-8db7-028435167710",
   "metadata": {},
   "outputs": [],
   "source": [
    "from manim import *\n"
   ]
  },
  {
   "cell_type": "code",
   "execution_count": 8,
   "id": "4d7d9da6-8831-4ec3-95e8-efd9dbd6a091",
   "metadata": {},
   "outputs": [
    {
     "data": {
      "text/html": [
       "<pre style=\"white-space:pre;overflow-x:auto;line-height:normal;font-family:Menlo,'DejaVu Sans Mono',consolas,'Courier New',monospace\"><span style=\"color: #7fbfbf; text-decoration-color: #7fbfbf\">[08/04/22 09:18:09] </span><span style=\"color: #008000; text-decoration-color: #008000\">INFO    </span> Animation <span style=\"color: #008000; text-decoration-color: #008000\">0</span> : Using cached data <span style=\"font-weight: bold\">(</span>hash :                           <a href=\"file:///home/dcalderon/Programs/miniconda3/lib/python3.10/site-packages/manim/renderer/cairo_renderer.py\" target=\"_blank\"><span style=\"color: #7f7f7f; text-decoration-color: #7f7f7f\">cairo_renderer.py</span></a><span style=\"color: #7f7f7f; text-decoration-color: #7f7f7f\">:</span><a href=\"file:///home/dcalderon/Programs/miniconda3/lib/python3.10/site-packages/manim/renderer/cairo_renderer.py#75\" target=\"_blank\"><span style=\"color: #7f7f7f; text-decoration-color: #7f7f7f\">75</span></a>\n",
       "<span style=\"color: #7fbfbf; text-decoration-color: #7fbfbf\">                    </span>         3163782288_2101260726_3371724500<span style=\"font-weight: bold\">)</span>                                 <span style=\"color: #7f7f7f; text-decoration-color: #7f7f7f\">                    </span>\n",
       "</pre>\n"
      ],
      "text/plain": [
       "\u001b[2;36m[08/04/22 09:18:09]\u001b[0m\u001b[2;36m \u001b[0m\u001b[32mINFO    \u001b[0m Animation \u001b[32m0\u001b[0m : Using cached data \u001b[1m(\u001b[0mhash :                           \u001b]8;id=175481;file:///home/dcalderon/Programs/miniconda3/lib/python3.10/site-packages/manim/renderer/cairo_renderer.py\u001b\\\u001b[2mcairo_renderer.py\u001b[0m\u001b]8;;\u001b\\\u001b[2m:\u001b[0m\u001b]8;id=788807;file:///home/dcalderon/Programs/miniconda3/lib/python3.10/site-packages/manim/renderer/cairo_renderer.py#75\u001b\\\u001b[2m75\u001b[0m\u001b]8;;\u001b\\\n",
       "\u001b[2;36m                    \u001b[0m         3163782288_2101260726_3371724500\u001b[1m)\u001b[0m                                 \u001b[2m                    \u001b[0m\n"
      ]
     },
     "metadata": {},
     "output_type": "display_data"
    },
    {
     "name": "stderr",
     "output_type": "stream",
     "text": [
      "                                                             \r"
     ]
    },
    {
     "data": {
      "text/html": [
       "<pre style=\"white-space:pre;overflow-x:auto;line-height:normal;font-family:Menlo,'DejaVu Sans Mono',consolas,'Courier New',monospace\"><span style=\"color: #7fbfbf; text-decoration-color: #7fbfbf\">                    </span><span style=\"color: #008000; text-decoration-color: #008000\">INFO    </span> Animation <span style=\"color: #008000; text-decoration-color: #008000\">1</span> : Partial movie file written in                   <a href=\"file:///home/dcalderon/Programs/miniconda3/lib/python3.10/site-packages/manim/scene/scene_file_writer.py\" target=\"_blank\"><span style=\"color: #7f7f7f; text-decoration-color: #7f7f7f\">scene_file_writer.py</span></a><span style=\"color: #7f7f7f; text-decoration-color: #7f7f7f\">:</span><a href=\"file:///home/dcalderon/Programs/miniconda3/lib/python3.10/site-packages/manim/scene/scene_file_writer.py#514\" target=\"_blank\"><span style=\"color: #7f7f7f; text-decoration-color: #7f7f7f\">514</span></a>\n",
       "<span style=\"color: #7fbfbf; text-decoration-color: #7fbfbf\">                    </span>         <span style=\"color: #008000; text-decoration-color: #008000\">'/home/dcalderon/Research/HELIX/drift-chamber-animation/proje</span> <span style=\"color: #7f7f7f; text-decoration-color: #7f7f7f\">                        </span>\n",
       "<span style=\"color: #7fbfbf; text-decoration-color: #7fbfbf\">                    </span>         <span style=\"color: #008000; text-decoration-color: #008000\">ct/tutorials/media/videos/tutorials/480p15/partial_movie_file</span> <span style=\"color: #7f7f7f; text-decoration-color: #7f7f7f\">                        </span>\n",
       "<span style=\"color: #7fbfbf; text-decoration-color: #7fbfbf\">                    </span>         <span style=\"color: #008000; text-decoration-color: #008000\">s/SineCurveUnitCircle/2201830969_329969645_1250023911.mp4'</span>    <span style=\"color: #7f7f7f; text-decoration-color: #7f7f7f\">                        </span>\n",
       "</pre>\n"
      ],
      "text/plain": [
       "\u001b[2;36m                   \u001b[0m\u001b[2;36m \u001b[0m\u001b[32mINFO    \u001b[0m Animation \u001b[32m1\u001b[0m : Partial movie file written in                   \u001b]8;id=202597;file:///home/dcalderon/Programs/miniconda3/lib/python3.10/site-packages/manim/scene/scene_file_writer.py\u001b\\\u001b[2mscene_file_writer.py\u001b[0m\u001b]8;;\u001b\\\u001b[2m:\u001b[0m\u001b]8;id=401050;file:///home/dcalderon/Programs/miniconda3/lib/python3.10/site-packages/manim/scene/scene_file_writer.py#514\u001b\\\u001b[2m514\u001b[0m\u001b]8;;\u001b\\\n",
       "\u001b[2;36m                    \u001b[0m         \u001b[32m'/home/dcalderon/Research/HELIX/drift-chamber-animation/proje\u001b[0m \u001b[2m                        \u001b[0m\n",
       "\u001b[2;36m                    \u001b[0m         \u001b[32mct/tutorials/media/videos/tutorials/480p15/partial_movie_file\u001b[0m \u001b[2m                        \u001b[0m\n",
       "\u001b[2;36m                    \u001b[0m         \u001b[32ms/SineCurveUnitCircle/2201830969_329969645_1250023911.mp4'\u001b[0m    \u001b[2m                        \u001b[0m\n"
      ]
     },
     "metadata": {},
     "output_type": "display_data"
    },
    {
     "data": {
      "text/html": [
       "<pre style=\"white-space:pre;overflow-x:auto;line-height:normal;font-family:Menlo,'DejaVu Sans Mono',consolas,'Courier New',monospace\"><span style=\"color: #7fbfbf; text-decoration-color: #7fbfbf\">                    </span><span style=\"color: #008000; text-decoration-color: #008000\">INFO    </span> Combining to Movie file.                                      <a href=\"file:///home/dcalderon/Programs/miniconda3/lib/python3.10/site-packages/manim/scene/scene_file_writer.py\" target=\"_blank\"><span style=\"color: #7f7f7f; text-decoration-color: #7f7f7f\">scene_file_writer.py</span></a><span style=\"color: #7f7f7f; text-decoration-color: #7f7f7f\">:</span><a href=\"file:///home/dcalderon/Programs/miniconda3/lib/python3.10/site-packages/manim/scene/scene_file_writer.py#607\" target=\"_blank\"><span style=\"color: #7f7f7f; text-decoration-color: #7f7f7f\">607</span></a>\n",
       "</pre>\n"
      ],
      "text/plain": [
       "\u001b[2;36m                   \u001b[0m\u001b[2;36m \u001b[0m\u001b[32mINFO    \u001b[0m Combining to Movie file.                                      \u001b]8;id=613373;file:///home/dcalderon/Programs/miniconda3/lib/python3.10/site-packages/manim/scene/scene_file_writer.py\u001b\\\u001b[2mscene_file_writer.py\u001b[0m\u001b]8;;\u001b\\\u001b[2m:\u001b[0m\u001b]8;id=515409;file:///home/dcalderon/Programs/miniconda3/lib/python3.10/site-packages/manim/scene/scene_file_writer.py#607\u001b\\\u001b[2m607\u001b[0m\u001b]8;;\u001b\\\n"
      ]
     },
     "metadata": {},
     "output_type": "display_data"
    },
    {
     "data": {
      "text/html": [
       "<pre style=\"white-space:pre;overflow-x:auto;line-height:normal;font-family:Menlo,'DejaVu Sans Mono',consolas,'Courier New',monospace\"><span style=\"color: #7fbfbf; text-decoration-color: #7fbfbf\">                    </span><span style=\"color: #008000; text-decoration-color: #008000\">INFO    </span>                                                               <a href=\"file:///home/dcalderon/Programs/miniconda3/lib/python3.10/site-packages/manim/scene/scene_file_writer.py\" target=\"_blank\"><span style=\"color: #7f7f7f; text-decoration-color: #7f7f7f\">scene_file_writer.py</span></a><span style=\"color: #7f7f7f; text-decoration-color: #7f7f7f\">:</span><a href=\"file:///home/dcalderon/Programs/miniconda3/lib/python3.10/site-packages/manim/scene/scene_file_writer.py#728\" target=\"_blank\"><span style=\"color: #7f7f7f; text-decoration-color: #7f7f7f\">728</span></a>\n",
       "<span style=\"color: #7fbfbf; text-decoration-color: #7fbfbf\">                    </span>         <span style=\"color: #808000; text-decoration-color: #808000; font-weight: bold\">File</span> ready at                                                 <span style=\"color: #7f7f7f; text-decoration-color: #7f7f7f\">                        </span>\n",
       "<span style=\"color: #7fbfbf; text-decoration-color: #7fbfbf\">                    </span>         <span style=\"color: #008000; text-decoration-color: #008000\">'/home/dcalderon/Research/HELIX/drift-chamber-animation/proje</span> <span style=\"color: #7f7f7f; text-decoration-color: #7f7f7f\">                        </span>\n",
       "<span style=\"color: #7fbfbf; text-decoration-color: #7fbfbf\">                    </span>         <span style=\"color: #008000; text-decoration-color: #008000\">ct/tutorials/media/videos/tutorials/480p15/SineCurveUnitCircl</span> <span style=\"color: #7f7f7f; text-decoration-color: #7f7f7f\">                        </span>\n",
       "<span style=\"color: #7fbfbf; text-decoration-color: #7fbfbf\">                    </span>         <span style=\"color: #008000; text-decoration-color: #008000\">e.mp4'</span>                                                        <span style=\"color: #7f7f7f; text-decoration-color: #7f7f7f\">                        </span>\n",
       "<span style=\"color: #7fbfbf; text-decoration-color: #7fbfbf\">                    </span>                                                                       <span style=\"color: #7f7f7f; text-decoration-color: #7f7f7f\">                        </span>\n",
       "</pre>\n"
      ],
      "text/plain": [
       "\u001b[2;36m                   \u001b[0m\u001b[2;36m \u001b[0m\u001b[32mINFO    \u001b[0m                                                               \u001b]8;id=156124;file:///home/dcalderon/Programs/miniconda3/lib/python3.10/site-packages/manim/scene/scene_file_writer.py\u001b\\\u001b[2mscene_file_writer.py\u001b[0m\u001b]8;;\u001b\\\u001b[2m:\u001b[0m\u001b]8;id=695330;file:///home/dcalderon/Programs/miniconda3/lib/python3.10/site-packages/manim/scene/scene_file_writer.py#728\u001b\\\u001b[2m728\u001b[0m\u001b]8;;\u001b\\\n",
       "\u001b[2;36m                    \u001b[0m         \u001b[1;33mFile\u001b[0m ready at                                                 \u001b[2m                        \u001b[0m\n",
       "\u001b[2;36m                    \u001b[0m         \u001b[32m'/home/dcalderon/Research/HELIX/drift-chamber-animation/proje\u001b[0m \u001b[2m                        \u001b[0m\n",
       "\u001b[2;36m                    \u001b[0m         \u001b[32mct/tutorials/media/videos/tutorials/480p15/SineCurveUnitCircl\u001b[0m \u001b[2m                        \u001b[0m\n",
       "\u001b[2;36m                    \u001b[0m         \u001b[32me.mp4'\u001b[0m                                                        \u001b[2m                        \u001b[0m\n",
       "\u001b[2;36m                    \u001b[0m                                                                       \u001b[2m                        \u001b[0m\n"
      ]
     },
     "metadata": {},
     "output_type": "display_data"
    },
    {
     "data": {
      "text/html": [
       "<pre style=\"white-space:pre;overflow-x:auto;line-height:normal;font-family:Menlo,'DejaVu Sans Mono',consolas,'Courier New',monospace\"><span style=\"color: #7fbfbf; text-decoration-color: #7fbfbf\">                    </span><span style=\"color: #008000; text-decoration-color: #008000\">INFO    </span> <span style=\"color: #808000; text-decoration-color: #808000; font-weight: bold\">Rendered</span> SineCurveUnitCircle                                              <a href=\"file:///home/dcalderon/Programs/miniconda3/lib/python3.10/site-packages/manim/scene/scene.py\" target=\"_blank\"><span style=\"color: #7f7f7f; text-decoration-color: #7f7f7f\">scene.py</span></a><span style=\"color: #7f7f7f; text-decoration-color: #7f7f7f\">:</span><a href=\"file:///home/dcalderon/Programs/miniconda3/lib/python3.10/site-packages/manim/scene/scene.py#240\" target=\"_blank\"><span style=\"color: #7f7f7f; text-decoration-color: #7f7f7f\">240</span></a>\n",
       "<span style=\"color: #7fbfbf; text-decoration-color: #7fbfbf\">                    </span>         <span style=\"color: #808000; text-decoration-color: #808000; font-weight: bold\">Played</span> <span style=\"color: #008000; text-decoration-color: #008000\">2</span> <span style=\"color: #808000; text-decoration-color: #808000; font-weight: bold\">animations</span>                                                       <span style=\"color: #7f7f7f; text-decoration-color: #7f7f7f\">            </span>\n",
       "</pre>\n"
      ],
      "text/plain": [
       "\u001b[2;36m                   \u001b[0m\u001b[2;36m \u001b[0m\u001b[32mINFO    \u001b[0m \u001b[1;33mRendered\u001b[0m SineCurveUnitCircle                                              \u001b]8;id=952719;file:///home/dcalderon/Programs/miniconda3/lib/python3.10/site-packages/manim/scene/scene.py\u001b\\\u001b[2mscene.py\u001b[0m\u001b]8;;\u001b\\\u001b[2m:\u001b[0m\u001b]8;id=870629;file:///home/dcalderon/Programs/miniconda3/lib/python3.10/site-packages/manim/scene/scene.py#240\u001b\\\u001b[2m240\u001b[0m\u001b]8;;\u001b\\\n",
       "\u001b[2;36m                    \u001b[0m         \u001b[1;33mPlayed\u001b[0m \u001b[32m2\u001b[0m \u001b[1;33manimations\u001b[0m                                                       \u001b[2m            \u001b[0m\n"
      ]
     },
     "metadata": {},
     "output_type": "display_data"
    },
    {
     "data": {
      "text/html": [
       "<video src=\"media/jupyter/SineCurveUnitCircle@2022-08-04@09-18-09.mp4\" controls autoplay loop style=\"max-width: 60%;\"  >\n",
       "      Your browser does not support the <code>video</code> element.\n",
       "    </video>"
      ],
      "text/plain": [
       "<IPython.core.display.Video object>"
      ]
     },
     "metadata": {},
     "output_type": "display_data"
    }
   ],
   "source": [
    "%%manim -ql SineCurveUnitCircle\n",
    "\n",
    "class SineCurveUnitCircle(Scene):\n",
    "    # contributed by heejin_park, https://infograph.tistory.com/230\n",
    "    def construct(self):\n",
    "        self.show_axis()\n",
    "        self.show_circle()\n",
    "        self.move_dot_and_draw_curve()\n",
    "        self.wait()\n",
    "\n",
    "    def show_axis(self):\n",
    "        x_start = np.array([-6,0,0])\n",
    "        x_end = np.array([6,0,0])\n",
    "\n",
    "        y_start = np.array([-4,-2,0])\n",
    "        y_end = np.array([-4,2,0])\n",
    "\n",
    "        x_axis = Line(x_start, x_end)\n",
    "        y_axis = Line(y_start, y_end)\n",
    "\n",
    "        self.add(x_axis, y_axis)\n",
    "        self.add_x_labels()\n",
    "\n",
    "        self.origin_point = np.array([-4,0,0])\n",
    "        self.curve_start = np.array([-3,0,0])\n",
    "\n",
    "    def add_x_labels(self):\n",
    "        x_labels = [\n",
    "            MathTex(\"\\pi\"), MathTex(\"2 \\pi\"),\n",
    "            MathTex(\"3 \\pi\"), MathTex(\"4 \\pi\"),\n",
    "        ]\n",
    "\n",
    "        for i in range(len(x_labels)):\n",
    "            x_labels[i].next_to(np.array([-1 + 2*i, 0, 0]), DOWN)\n",
    "            self.add(x_labels[i])\n",
    "\n",
    "    def show_circle(self):\n",
    "        circle = Circle(radius=1)\n",
    "        circle.move_to(self.origin_point)\n",
    "        self.add(circle)\n",
    "        self.circle = circle\n",
    "\n",
    "    def move_dot_and_draw_curve(self):\n",
    "        orbit = self.circle\n",
    "        origin_point = self.origin_point\n",
    "\n",
    "        dot = Dot(radius=0.08, color=YELLOW)\n",
    "        dot.move_to(orbit.point_from_proportion(0))\n",
    "        self.t_offset = 0\n",
    "        rate = 0.25\n",
    "\n",
    "        def go_around_circle(mob, dt):\n",
    "            self.t_offset += (dt * rate)\n",
    "            # print(self.t_offset)\n",
    "            mob.move_to(orbit.point_from_proportion(self.t_offset % 1))\n",
    "\n",
    "        def get_line_to_circle():\n",
    "            return Line(origin_point, dot.get_center(), color=BLUE)\n",
    "\n",
    "        def get_line_to_curve():\n",
    "            x = self.curve_start[0] + self.t_offset * 4\n",
    "            y = dot.get_center()[1]\n",
    "            return Line(dot.get_center(), np.array([x,y,0]), color=YELLOW_A, stroke_width=2 )\n",
    "\n",
    "\n",
    "        self.curve = VGroup()\n",
    "        self.curve.add(Line(self.curve_start,self.curve_start))\n",
    "        def get_curve():\n",
    "            last_line = self.curve[-1]\n",
    "            x = self.curve_start[0] + self.t_offset * 4\n",
    "            y = dot.get_center()[1]\n",
    "            new_line = Line(last_line.get_end(),np.array([x,y,0]), color=YELLOW_D)\n",
    "            self.curve.add(new_line)\n",
    "\n",
    "            return self.curve\n",
    "\n",
    "        dot.add_updater(go_around_circle)\n",
    "\n",
    "        origin_to_circle_line = always_redraw(get_line_to_circle)\n",
    "        dot_to_curve_line = always_redraw(get_line_to_curve)\n",
    "        sine_curve_line = always_redraw(get_curve)\n",
    "\n",
    "        self.add(dot)\n",
    "        self.add(orbit, origin_to_circle_line, dot_to_curve_line, sine_curve_line)\n",
    "        self.wait(8.5)\n",
    "\n",
    "        dot.remove_updater(go_around_circle)"
   ]
  },
  {
   "cell_type": "code",
   "execution_count": null,
   "id": "6f360fa9-81e7-4d91-8438-60852b49a921",
   "metadata": {},
   "outputs": [],
   "source": []
  }
 ],
 "metadata": {
  "kernelspec": {
   "display_name": "Python 3 (ipykernel)",
   "language": "python",
   "name": "python3"
  },
  "language_info": {
   "codemirror_mode": {
    "name": "ipython",
    "version": 3
   },
   "file_extension": ".py",
   "mimetype": "text/x-python",
   "name": "python",
   "nbconvert_exporter": "python",
   "pygments_lexer": "ipython3",
   "version": "3.10.4"
  }
 },
 "nbformat": 4,
 "nbformat_minor": 5
}
