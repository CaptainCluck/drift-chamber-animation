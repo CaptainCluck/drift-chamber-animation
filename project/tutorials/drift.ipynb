{
 "cells": [
  {
   "cell_type": "markdown",
   "id": "8211288d",
   "metadata": {},
   "source": [
    "## DCT Animation\n",
    "\n",
    "This notebook contains the examples discussed in [this video](https://youtu.be/wiiglFP5c-M). The cells below contain the final state of the corresponding scene from the video. Feel free to modify the code below and play around, your changes are only local and just visible to you. To add some more new cells, you can use the \"+\" icon above.\n",
    "\n",
    "To run cells, click on them so that they are in focus, then either the \"Run\" button above, or hit `<Shift + Enter>`."
   ]
  },
  {
   "cell_type": "code",
   "execution_count": 6,
   "id": "54213abd",
   "metadata": {},
   "outputs": [],
   "source": [
    "from manim import *\n",
    "from colour import Color\n",
    "import random"
   ]
  },
  {
   "cell_type": "markdown",
   "id": "6844ed32",
   "metadata": {},
   "source": [
    "These are some useful basic settings for Jupyter notebooks. You can use them by executing the cell, or just skip them."
   ]
  },
  {
   "cell_type": "code",
   "execution_count": 20,
   "id": "a35381fa",
   "metadata": {},
   "outputs": [],
   "source": [
    "config.media_width = \"100%\"\n",
    "config.verbosity = \"WARNING\""
   ]
  },
  {
   "cell_type": "code",
   "execution_count": 94,
   "id": "341d616c-f2f7-45d5-9456-54623ea3fc36",
   "metadata": {},
   "outputs": [],
   "source": [
    "# config.background_color = BLACK #DARK_BLUE                 \n",
    "config.frame_height = 10                                     \n",
    "config.frame_widthe = 10                                     \n",
    "                                                             \n",
    "config.pixel_height = 500                                    \n",
    "config.pixel_width = 500                                     \n",
    "                                                             \n",
    "config.background_color = DARK_GREY"
   ]
  },
  {
   "cell_type": "code",
   "execution_count": 160,
   "id": "b0f7c39b-53d7-410e-b282-9b9feac9e5aa",
   "metadata": {},
   "outputs": [
    {
     "name": "stderr",
     "output_type": "stream",
     "text": [
      "                                                                                                                             \r"
     ]
    },
    {
     "data": {
      "text/html": [
       "<video src=\"media/jupyter/dct_animation@2022-08-03@14-55-12.mp4\" controls autoplay loop style=\"max-width: 100%;\"  >\n",
       "      Your browser does not support the <code>video</code> element.\n",
       "    </video>"
      ],
      "text/plain": [
       "<IPython.core.display.Video object>"
      ]
     },
     "metadata": {},
     "output_type": "display_data"
    }
   ],
   "source": [
    "%%manim -ql dct_animation\n",
    "\n",
    "class dct_animation(Scene):\n",
    "    def construct(self):\n",
    "\n",
    "        # self.show_axis()\n",
    "        self.drift_field()\n",
    "        # self.dashed_line()\n",
    "        self.center_particle()\n",
    "        self.downgoing_particle()\n",
    "        # self.electron()\n",
    "        # self.positive_ion()\n",
    "        self.current_plot()\n",
    "        self.wait(10)\n",
    "\n",
    "    def drift_field(self):\n",
    "        color=BLACK\n",
    "        drift_line = Arrow(0.9 * config.left_side, 0.9 * config.right_side, color=color).move_to(6.5 * DOWN) #, buff=0)        \n",
    "        t=Text(\"Drift Field\", color=color, font_size = 50).next_to(drift_line, UP)\n",
    "        self.play(FadeIn(drift_line, t))\n",
    "\n",
    "        dashed = DashedLine(2*config.top, 2*config.bottom, dash_length=0.5, dashed_ratio=0.5)\n",
    "        self.play(FadeIn(dashed))\n",
    "\n",
    "        sensor = Line(2*config.top, 2*config.bottom).shift(config.left_side * 0.9)\n",
    "        cathode = Line(2*config.top, 2*config.bottom).shift(config.right_side * 0.9)\n",
    "\n",
    "        self.play(FadeIn(sensor, cathode))\n",
    "\n",
    "        self.wait()\n",
    "    def center_particle(self):\n",
    "        center_particle = Circle(color=RED, radius=0.3, fill_opacity=0.75)#.move_to(2 * LEFT)\n",
    "        t = Text(\"Ar\", color=BLACK, font_size=30).move_to(center_particle.get_center())\n",
    "        self.play(FadeIn(center_particle, t))\n",
    "        self.wait(1)\n",
    "    \n",
    "    def downgoing_particle(self):\n",
    "        d = Dot(point=np.array([0., 4.5, 0.]), radius=0.2, \n",
    "            stroke_width=0, fill_opacity=1.0, color=PURE_RED)\n",
    "        # d.move_to(DOWN*4)\n",
    "        self.play(d.animate.move_to(DOWN*6), run_time=1)\n",
    "        self.wait()\n",
    "\n",
    "        self.wait()\n",
    "    \n",
    "    def electron(self):\n",
    "        self.wait()\n",
    "    \n",
    "    def positive_ion(self):\n",
    "        self.wait()\n",
    "    \n",
    "    def current_plot(self):\n",
    "        square = Square(color=BLACK, fill_opacity=0.75, \n",
    "                        side_length=6.25)\n",
    "        square.move_to(3.75*UR)\n",
    "        \n",
    "        plane = NumberPlane(\n",
    "            x_range = (0, 5),\n",
    "            y_range = (0, 5),\n",
    "            x_length = 5)# ,\n",
    "            #        axis_config={\"include_numbers\": True},\n",
    "            #   )\n",
    "            # plane.center()\n",
    "        ax = Axes(\n",
    "            x_range = (0, 5),\n",
    "            y_range = (0, 5),\n",
    "            x_length = 5,\n",
    "            tips=False)\n",
    "        plane.move_to(3.75*UR)\n",
    "        ax.move_to(3.75*UR)\n",
    "            # ax.to_corner(3.75*UR)\n",
    "            # line_graph = plane.plot_line_graph(\n",
    "            #     x_values = [0, 1.5, 2, 2.8, 4, 6.25],\n",
    "            #     y_values = [1, 3, 2.25, 4, 2.5, 1.75],\n",
    "            #     line_color=GOLD_E,\n",
    "            #     vertex_dot_style=dict(stroke_width=3,  fill_color=PURPLE),\n",
    "            #     stroke_width = 4,\n",
    "            # )\n",
    "            # self.add(square, plane)#, line_graph)\n",
    "            # self.add(square, ax)#, line_graph)\n",
    "            #  self.play(FadeIn(square, ax))#, line_graph)\n",
    "        self.play(FadeIn(square, plane))#, line_graph)\n"
   ]
  },
  {
   "cell_type": "code",
   "execution_count": null,
   "id": "5342d7a3",
   "metadata": {},
   "outputs": [],
   "source": [
    "\n"
   ]
  },
  {
   "cell_type": "code",
   "execution_count": 151,
   "id": "d335191f-6738-4782-ab36-6fad0a7f0211",
   "metadata": {},
   "outputs": [
    {
     "name": "stderr",
     "output_type": "stream",
     "text": [
      "                                                                                                                             \r"
     ]
    },
    {
     "data": {
      "text/html": [
       "<video src=\"media/jupyter/plotter@2022-08-03@14-47-49.mp4\" controls autoplay loop style=\"max-width: 100%;\"  >\n",
       "      Your browser does not support the <code>video</code> element.\n",
       "    </video>"
      ],
      "text/plain": [
       "<IPython.core.display.Video object>"
      ]
     },
     "metadata": {},
     "output_type": "display_data"
    }
   ],
   "source": [
    "%%manim -ql plotter\n",
    "\n",
    "class plotter(Scene):\n",
    "    def construct(self):\n",
    "        \n",
    "        square = Square(color=BLACK, fill_opacity=0.75, \n",
    "                        side_length=7)\n",
    "        # square.move_to(3.75*UR)\n",
    "        \n",
    "        plane = NumberPlane(\n",
    "            x_range = (0, 6),\n",
    "            y_range = (0, 6),\n",
    "            x_length = 6)# ,\n",
    "            #        axis_config={\"include_numbers\": True},\n",
    "            #   )\n",
    "        plane.center()\n",
    "        plane.move_to(0.3 * UR)\n",
    "        ax = Axes(\n",
    "            x_range = (0, 5),\n",
    "            y_range = (0, 5),\n",
    "            x_length = 5,\n",
    "            tips=False)\n",
    "        ax.center()\n",
    "        square.center()\n",
    "        # plane.move_to(3.75*UR)\n",
    "        # ax.move_to(3.75*UR)\n",
    "        \n",
    "        t =Text(\"Time\", font_size=40).next_to(plane, DOWN)\n",
    "        t2 =Text(\"Current\", font_size=40).rotate(PI/2).next_to(plane, LEFT)\n",
    "        group = VGroup(square, plane, t, t2).move_to(RIGHT)\n",
    "        self.play(FadeIn(group), run_time=2)\n",
    "        \n",
    "        \n",
    "        # create the axes and the curve\n",
    "        ax1 = Axes(x_range=[0, 5], y_range=[0, 5])\n",
    "        graph1 = ax1.plot(lambda x: np.sin(x), color=BLUE, x_range=[0, 3 * PI])\n",
    "        curve = plane.plot(lambda x: (3*np.sin(8*(x-1))*np.exp(-0.5*x))+3, color=BLUE, x_range=[0, 6])\n",
    "        # plane.plot()\n",
    "        # create dots based on the graph\n",
    "        moving_dot = Dot(ax1.i2gp(graph1.t_min, graph1), color=ORANGE)\n",
    "        dot_1 = Dot(ax1.i2gp(graph1.t_min, graph1))\n",
    "        dot_2 = Dot(ax1.i2gp(graph1.t_max, graph1))\n",
    "        self.add(dot_1)\n",
    "        # self.add(ax1, graph1, dot_1, dot_2, moving_dot)\n",
    "        self.play(FadeIn(curve))\n",
    "        # self.play(self.animate.scale(0.5).move_to(moving_dot))\n",
    "        self.wait(10)\n",
    "        # self.add(square, plane, t, t2)\n",
    "        # self.add(square, ax)"
   ]
  },
  {
   "cell_type": "code",
   "execution_count": 169,
   "id": "3e9a3cab",
   "metadata": {},
   "outputs": [
    {
     "name": "stderr",
     "output_type": "stream",
     "text": [
      "                                                                                                                             \r"
     ]
    },
    {
     "data": {
      "text/html": [
       "<video src=\"media/jupyter/moving_dot@2022-08-03@15-27-19.mp4\" controls autoplay loop style=\"max-width: 100%;\"  >\n",
       "      Your browser does not support the <code>video</code> element.\n",
       "    </video>"
      ],
      "text/plain": [
       "<IPython.core.display.Video object>"
      ]
     },
     "metadata": {},
     "output_type": "display_data"
    }
   ],
   "source": [
    "%%manim -qh moving_dot\n",
    "\n",
    "class moving_dot(Scene):\n",
    "    def construct(self):\n",
    "        \n",
    "        d = Dot(point=np.array([0., 4.5, 0.]), radius=0.2, \n",
    "                stroke_width=0, fill_opacity=1.0, color=PURE_RED)\n",
    "        t = Text(\"Be+\", color=BLACK, font_size=20).move_to(d.get_center())\n",
    "        moving_dot=VGroup(d,t)\n",
    "        # d.move_to(DOWN*4)\n",
    "        self.play(moving_dot.animate.move_to(DOWN*6), run_time=2)\n",
    "        self.wait()\n",
    "        "
   ]
  },
  {
   "cell_type": "markdown",
   "id": "673df678",
   "metadata": {},
   "source": [
    "Bonus scene: de Casteljau's Bézier curve construction (this is not written in a particularly nice way, the implementation could be made much more compact)."
   ]
  },
  {
   "cell_type": "code",
   "execution_count": 9,
   "id": "d8f4b498",
   "metadata": {},
   "outputs": [
    {
     "name": "stderr",
     "output_type": "stream",
     "text": [
      "                                                                                                                             \r"
     ]
    },
    {
     "data": {
      "text/html": [
       "<video src=\"media/jupyter/DeCasteljau@2022-08-03@11-12-00.mp4\" controls autoplay loop style=\"max-width: 80%;\"  >\n",
       "      Your browser does not support the <code>video</code> element.\n",
       "    </video>"
      ],
      "text/plain": [
       "<IPython.core.display.Video object>"
      ]
     },
     "metadata": {},
     "output_type": "display_data"
    }
   ],
   "source": [
    "%%manim -qm DeCasteljau\n",
    "\n",
    "class DeCasteljau(Scene):\n",
    "    def construct(self):\n",
    "        self.camera.background_color = '#455D3E'\n",
    "        a1 = np.array([-3, -2, 0])\n",
    "        h1 = np.array([-3, 0, 0])\n",
    "        h2 = np.array([3, 0, 0])\n",
    "        a2 = np.array([3, 2, 0])\n",
    "\n",
    "        t = ValueTracker(0.001)\n",
    "        self.add(t)\n",
    "\n",
    "        d01 = Cross(scale_factor=0.2).move_to(a1)\n",
    "        d02 = Dot(color=ORANGE).move_to(h1)\n",
    "        d03 = Dot(color=ORANGE).move_to(h2)\n",
    "        d04 = Cross(scale_factor=0.2).move_to(a2)\n",
    "\n",
    "        d11 = Dot(color=GRAY).add_updater(\n",
    "            lambda mob: mob.move_to(\n",
    "                (1- t.get_value()) * d01.get_center() + t.get_value() * d02.get_center()\n",
    "            )\n",
    "        )\n",
    "        d12 = Dot(color=GRAY).add_updater(\n",
    "            lambda mob: mob.move_to((1- t.get_value()) * d02.get_center() + t.get_value() * d03.get_center())\n",
    "        )\n",
    "        d13 = Dot(color=GRAY).add_updater(\n",
    "            lambda mob: mob.move_to((1- t.get_value()) * d03.get_center() + t.get_value() * d04.get_center())\n",
    "        )\n",
    "\n",
    "        d21 = Dot(color=GRAY).add_updater(\n",
    "            lambda mob: mob.move_to((1- t.get_value()) * d11.get_center() + t.get_value() * d12.get_center())\n",
    "        )\n",
    "        d22 = Dot(color=GRAY).add_updater(\n",
    "            lambda mob: mob.move_to((1- t.get_value()) * d12.get_center() + t.get_value() * d13.get_center())\n",
    "        )\n",
    "\n",
    "        d31 = Dot(color=RED).add_updater(\n",
    "            lambda mob: mob.move_to((1- t.get_value()) * d21.get_center() + t.get_value() * d22.get_center())\n",
    "        )\n",
    "\n",
    "        static_lines = [\n",
    "            Line(d01.get_center(), d02, color=ORANGE),\n",
    "            Line(d02, d03),\n",
    "            Line(d03, d04.get_center(), color=ORANGE)\n",
    "        ]\n",
    "\n",
    "        dynamic_lines = [\n",
    "            always_redraw(lambda a=a, b=b: Line(a.get_center(), b.get_center(), color=LIGHT_GRAY))\n",
    "            for a, b in [\n",
    "                (d11, d12), (d12, d13), (d21, d22)\n",
    "            ]\n",
    "        ]\n",
    "        self.add(*dynamic_lines, *static_lines, d01, d02, d03, d04, d11, d12, d13, d21, d22, d31)\n",
    "        self.add(\n",
    "            TracedPath(lambda: d31.get_center(), stroke_color=RED)\n",
    "        )\n",
    "\n",
    "        self.wait(0.5)\n",
    "        self.play(t.animate(run_time=5).set_value(0.999))\n",
    "        self.wait(0.5)\n",
    "        self.play(FadeOut(VGroup(\n",
    "            *dynamic_lines, *static_lines, d02, d03, d11, d12, d13, d21, d22\n",
    "        )))\n",
    "        self.wait()"
   ]
  },
  {
   "cell_type": "code",
   "execution_count": 121,
   "id": "f4e08a93",
   "metadata": {},
   "outputs": [
    {
     "data": {
      "text/plain": [
       "\u001b[0;31mDocstring:\u001b[0m\n",
       "Switch color scheme for prompts, info system and exception handlers.\n",
       "\n",
       "Currently implemented schemes: NoColor, Linux, LightBG.\n",
       "\n",
       "Color scheme names are not case-sensitive.\n",
       "\n",
       "Examples\n",
       "--------\n",
       "To get a plain black and white terminal::\n",
       "\n",
       "  %colors nocolor\n",
       "\u001b[0;31mFile:\u001b[0m      ~/Programs/miniconda3/lib/python3.10/site-packages/IPython/core/magics/basic.py\n"
      ]
     },
     "metadata": {},
     "output_type": "display_data"
    }
   ],
   "source": [
    "%colors?"
   ]
  },
  {
   "cell_type": "code",
   "execution_count": 122,
   "id": "65123a83-cff3-4fa3-82d6-52cf8c341fa9",
   "metadata": {},
   "outputs": [
    {
     "data": {
      "text/plain": [
       "'#000000'"
      ]
     },
     "execution_count": 122,
     "metadata": {},
     "output_type": "execute_result"
    }
   ],
   "source": [
    "BLACK"
   ]
  },
  {
   "cell_type": "code",
   "execution_count": null,
   "id": "19576250-9232-4c6d-bed6-2a61050aad06",
   "metadata": {},
   "outputs": [],
   "source": []
  }
 ],
 "metadata": {
  "kernelspec": {
   "display_name": "Python 3 (ipykernel)",
   "language": "python",
   "name": "python3"
  },
  "language_info": {
   "codemirror_mode": {
    "name": "ipython",
    "version": 3
   },
   "file_extension": ".py",
   "mimetype": "text/x-python",
   "name": "python",
   "nbconvert_exporter": "python",
   "pygments_lexer": "ipython3",
   "version": "3.10.4"
  }
 },
 "nbformat": 4,
 "nbformat_minor": 5
}
